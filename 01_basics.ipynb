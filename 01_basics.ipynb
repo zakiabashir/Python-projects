{
  "nbformat": 4,
  "nbformat_minor": 0,
  "metadata": {
    "colab": {
      "provenance": [],
      "authorship_tag": "ABX9TyMtNcj5csu/bAsLXc/XPR6y",
      "include_colab_link": true
    },
    "kernelspec": {
      "name": "python3",
      "display_name": "Python 3"
    },
    "language_info": {
      "name": "python"
    }
  },
  "cells": [
    {
      "cell_type": "markdown",
      "metadata": {
        "id": "view-in-github",
        "colab_type": "text"
      },
      "source": [
        "<a href=\"https://colab.research.google.com/github/zakiabashir/Python-projects/blob/main/01_basics.ipynb\" target=\"_parent\"><img src=\"https://colab.research.google.com/assets/colab-badge.svg\" alt=\"Open In Colab\"/></a>"
      ]
    },
    {
      "cell_type": "markdown",
      "source": [
        "# **00_joke_bot**"
      ],
      "metadata": {
        "id": "E15f0rbnAmAN"
      }
    },
    {
      "cell_type": "code",
      "source": [
        "\"\"\"Problem Statement\n",
        "Write a simple joke bot. The bot starts by asking the user what they want. However, your program will only respond to one response: Joke.\n",
        "\n",
        "If the user enters Joke then we will print out a single joke. Each time the joke is always the same:\n",
        "\n",
        "Here is a joke for you! Panaversity GPT - Sophia is heading out to the grocery store. A programmer tells her: get a liter of milk, and if they have eggs, get 12. Sophia returns with 13 liters of milk. The programmer asks why and Sophia replies: 'because they had eggs'\n",
        "\n",
        "If the user enters anything else we print out:\n",
        "\n",
        "Sorry I only tell jokes\n",
        "\n",
        "You should use the three constants:\n",
        "\n",
        "PROMPT JOKE SORRY\n",
        "\n",
        "which contain the strings for the prompt asked to the user, the joke to print out if the user enters Joke and the sorry message if the user enters anything else.\n",
        "\n",
        "Your program will need to use an if statement which checks if the user input is Joke:\n",
        "\n",
        "if user_input == \"Joke\":\n",
        "\n",
        "Recall that == is a comparison which tests if two values are equal to one another.\n",
        "\n",
        "Here is a full run of the program (user input is in blue):\n",
        "\n",
        "What do you want? Joke Here is a joke for you! Panaversity GPT - Sophia is heading out to the grocery store. A programmer tells her: get a liter of milk, and if they have eggs, get 12. Sophia returns with 13 liters of milk. The programmer asks why and Sophia replies: 'because they had eggs'\n",
        "\"\"\"\n",
        "\n",
        "PROMPT: str = \"What do you want? \"\n",
        "JOKE: str = \"Here is a joke for you! Sophia is heading out to the grocery store. A programmer tells her: get a liter of milk, and if they have eggs, get 12. Sophia returns with 13 liters of milk. The programmer asks why and Sophia replies: 'because they had eggs'\"\n",
        "SORRY: str = \"Sorry I only tell jokes.\"\n",
        "\n",
        "def main():\n",
        "    user_input = input(PROMPT) # Get input from the user\n",
        "    user_input = user_input.strip().lower()  # Clean up the input\n",
        "    if \"joke\" in user_input:\n",
        "        print(JOKE)\n",
        "    else:\n",
        "        print(SORRY)\n",
        "\n",
        "if __name__ == \"__main__\":\n",
        "    main()"
      ],
      "metadata": {
        "colab": {
          "base_uri": "https://localhost:8080/"
        },
        "id": "qICNdRUFBShO",
        "outputId": "e21b35a2-6891-4fd0-a1e9-3f7df524f449"
      },
      "execution_count": 5,
      "outputs": [
        {
          "output_type": "stream",
          "name": "stdout",
          "text": [
            "What do you want? joke\n",
            "Here is a joke for you! Sophia is heading out to the grocery store. A programmer tells her: get a liter of milk, and if they have eggs, get 12. Sophia returns with 13 liters of milk. The programmer asks why and Sophia replies: 'because they had eggs'\n"
          ]
        }
      ]
    },
    {
      "cell_type": "markdown",
      "source": [
        "# **01_double_it**"
      ],
      "metadata": {
        "id": "mgjGVVvVAmGk"
      }
    },
    {
      "cell_type": "code",
      "source": [
        "\"\"\"\n",
        "Problem Statement\n",
        "Write a program that asks a user to enter a number. Your program will then double that number and print out the result. It will repeat that process until the value is 100 or greater.\n",
        "\n",
        "For example if the user enters the number 2 you would then print:\n",
        "\n",
        "4 8 16 32 64 128\n",
        "\n",
        "Note that:\n",
        "\n",
        "2 doubled is 4\n",
        "\n",
        "4 doubled is 8\n",
        "\n",
        "8 doubled is 16\n",
        "\n",
        "and so on.\n",
        "\n",
        "We stop at 128 because that value is greater than 100.\n",
        "\n",
        "Maintain the current number in a variable named curr_value. When you double the number, you should be updating curr_value. Recall that you can double the value of curr_value using a line like:\n",
        "\n",
        "curr_value = curr_value * 2\n",
        "\n",
        "This program should have a while loop and the while loop condition should test if curr_value is less than 100. Thus, your program will have the line:\n",
        "\n",
        "while curr_value < 100:\n",
        "\"\"\"\n",
        "\n",
        "curr_value = int(input())\n",
        "\n",
        "while curr_value < 100:\n",
        "  curr_value = curr_value * 2\n",
        "  print(curr_value, end=\" \")\n"
      ],
      "metadata": {
        "colab": {
          "base_uri": "https://localhost:8080/"
        },
        "id": "ehw3QAB-DFo2",
        "outputId": "819e1382-06dc-4629-b2fb-b1a38cbaebc7"
      },
      "execution_count": 6,
      "outputs": [
        {
          "output_type": "stream",
          "name": "stdout",
          "text": [
            "8\n",
            "16 32 64 128 "
          ]
        }
      ]
    },
    {
      "cell_type": "markdown",
      "source": [
        "# **02_liftoff**"
      ],
      "metadata": {
        "id": "xNxtuemsAmO2"
      }
    },
    {
      "cell_type": "code",
      "source": [
        "\"\"\"\n",
        "Problem Statement\n",
        "Write a program that prints out the calls for a spaceship that is about to launch. Countdown from 10 to 1 and then output Liftoff!\n",
        "\n",
        "Here's a sample run of the program:\n",
        "\n",
        "10 9 8 7 6 5 4 3 2 1 Liftoff!\n",
        "\n",
        "There are many ways to solve this problem. One approach is to use a for loop, and to use the for loop variable i. Recall that i will keep track of how many times the for loop has completed executing its body. As an example this code:\n",
        "\n",
        "for i in range(10): print(i)\n",
        "\n",
        "Will print out the values 0, 1, 2, 3, 4, 5, 6, 7, 8, 9. The values printed in liftoff are 10 minus the number of times the for loop has completed.\n",
        "\"\"\"\n",
        "for i in range(10):\n",
        "  print(10 - i, end=\" \")\n",
        "print(\"Liftoff!\")\n"
      ],
      "metadata": {
        "colab": {
          "base_uri": "https://localhost:8080/"
        },
        "id": "QkMoiEeEDP_S",
        "outputId": "af8a04fb-1783-413c-dfa2-9870d9a460f4"
      },
      "execution_count": 7,
      "outputs": [
        {
          "output_type": "stream",
          "name": "stdout",
          "text": [
            "10 9 8 7 6 5 4 3 2 1 Liftoff!\n"
          ]
        }
      ]
    },
    {
      "cell_type": "markdown",
      "source": [
        "# **03_guess_my_number**"
      ],
      "metadata": {
        "id": "uosucURuAmfB"
      }
    },
    {
      "cell_type": "code",
      "source": [
        "\"\"\"\n",
        "Problem Statement\n",
        "Guess My Number\n",
        "\n",
        "I am thinking of a number between 0 and 99... Enter a guess: 50 Your guess is too high\n",
        "\n",
        "Enter a new number: 25 Your guess is too low\n",
        "\n",
        "Enter a new number: 40 Your guess is too low\n",
        "\n",
        "Enter a new number: 45 Your guess is too low\n",
        "\n",
        "Enter a new number: 48 Congrats! The number was: 48\n",
        "\"\"\"\n",
        "import random\n",
        "\n",
        "def main():\n",
        "    # Generate the secret number at random!\n",
        "    secret_number = random.randint(1, 99)\n",
        "\n",
        "    print(\"I am thinking of a number between 1 and 99...\")\n",
        "\n",
        "    # Get user's guess\n",
        "    guess = int(input(\"Enter a guess: \"))\n",
        "    # True if guess is not equal to secret number\n",
        "    while guess != secret_number:\n",
        "        if guess < secret_number:  # If-statement is True if guess is less than secret number\n",
        "            print(\"Your guess is too low\")\n",
        "        else:\n",
        "            print(\"Your guess is too high\")\n",
        "\n",
        "        print() # Print an empty line to tidy up the console for new guesses\n",
        "        guess = int(input(\"Enter a new guess: \"))  # Get a new guess from the user\n",
        "\n",
        "    print(f\"Congrats! The number was: {secret_number}\" )\n",
        "\n",
        "if __name__ == '__main__':\n",
        "    main()"
      ],
      "metadata": {
        "colab": {
          "base_uri": "https://localhost:8080/"
        },
        "id": "cGCKD0gDDZ1f",
        "outputId": "d8f6e36f-18e6-42f6-811b-fc35851a2f41"
      },
      "execution_count": 8,
      "outputs": [
        {
          "output_type": "stream",
          "name": "stdout",
          "text": [
            "I am thinking of a number between 1 and 99...\n",
            "Enter a guess: 59\n",
            "Your guess is too low\n",
            "\n",
            "Enter a new guess: 65\n",
            "Your guess is too low\n",
            "\n",
            "Enter a new guess: 87\n",
            "Your guess is too high\n",
            "\n",
            "Enter a new guess: 78\n",
            "Your guess is too low\n",
            "\n",
            "Enter a new guess: 82\n",
            "Your guess is too high\n",
            "\n",
            "Enter a new guess: 80\n",
            "Your guess is too high\n",
            "\n",
            "Enter a new guess: 79\n",
            "Congrats! The number was: 79\n"
          ]
        }
      ]
    },
    {
      "cell_type": "markdown",
      "source": [
        "# **04_random_numbers**"
      ],
      "metadata": {
        "id": "Z97Xvs3TAnHM"
      }
    },
    {
      "cell_type": "code",
      "source": [
        "\"\"\"\n",
        "Problem Statement\n",
        "Print 10 random numbers in the range 1 to 100.\n",
        "\n",
        "Here is an example run:\n",
        "\n",
        "45 79 61 47 52 10 16 83 19 12\n",
        "\n",
        "Each time you run your program you should get different numbers\n",
        "\n",
        "81 76 70 1 27 63 96 100 32 92\n",
        "\n",
        "Recall that the python random library has a function randint which returns an integer in the range set by the parameters (inclusive). For example this call would produce a random integer between 1 and 6, which could include 1 and could include 6:\n",
        "\n",
        "value = random.randint(1, 6)\n",
        "\"\"\"\n",
        "\n",
        "import random\n",
        "\n",
        "for i in range(10):\n",
        "  print(random.randint(1, 100), end=\" \")\n",
        "print()"
      ],
      "metadata": {
        "colab": {
          "base_uri": "https://localhost:8080/"
        },
        "id": "5voUq0kID-JE",
        "outputId": "b9cbd996-4bd9-45ad-a3d8-ae80b817afc4"
      },
      "execution_count": 9,
      "outputs": [
        {
          "output_type": "stream",
          "name": "stdout",
          "text": [
            "28 98 19 35 35 5 45 93 98 54 \n"
          ]
        }
      ]
    }
  ]
}