{
  "nbformat": 4,
  "nbformat_minor": 0,
  "metadata": {
    "colab": {
      "provenance": [],
      "authorship_tag": "ABX9TyNdwCTnRSJhxXd3ev8lzc+X",
      "include_colab_link": true
    },
    "kernelspec": {
      "name": "python3",
      "display_name": "Python 3"
    },
    "language_info": {
      "name": "python"
    }
  },
  "cells": [
    {
      "cell_type": "markdown",
      "metadata": {
        "id": "view-in-github",
        "colab_type": "text"
      },
      "source": [
        "<a href=\"https://colab.research.google.com/github/zakiabashir/Python-projects/blob/main/07_information_flow.ipynb\" target=\"_parent\"><img src=\"https://colab.research.google.com/assets/colab-badge.svg\" alt=\"Open In Colab\"/></a>"
      ]
    },
    {
      "cell_type": "markdown",
      "source": [
        "# **00_choosing_returns**"
      ],
      "metadata": {
        "id": "bjhSQDuV1mxQ"
      }
    },
    {
      "cell_type": "code",
      "source": [
        "\"\"\"\n",
        "Problem Statement\n",
        "There are times where we want to return different things from a function based on some condition. To practice this idea, imagine that we want to check if someone is an adult. We might check their age and return different things depending on how old they are!\n",
        "\n",
        "We've provided you with the ADULT_AGE variable which has the age a person is legally classified as an adult (in the United States). Fill out the is_adult(age) function, which returns True if the function takes an age that is greater than or equal to ADULT_AGE. If the function takes an age less than ADULT_AGE, return False instead.\n",
        "\n",
        "Here are two sample runs of the program, one for each return option (user input in bold italics):\n",
        "\n",
        "(Entered age is an adult age)\n",
        "\n",
        "How old is this person?: 35\n",
        "\n",
        "True\n",
        "\n",
        "(Entered age is not an adult age)\n",
        "\n",
        "How old is this person?: 7\n",
        "\n",
        "False\n",
        "\"\"\"\n",
        "ADULT_AGE : int = 18 # U.S. age\n",
        "\n",
        "def is_adult(age: int):\n",
        "    if age >= ADULT_AGE:\n",
        "        return True\n",
        "\n",
        "    return False\n",
        "\n",
        "########## No need to edit code beyond this point :) ##########\n",
        "\n",
        "def main():\n",
        "    age : str = int(input(\"How old is this person?: \"))\n",
        "    print(is_adult(age))\n",
        "\n",
        "\n",
        "if __name__ == \"__main__\":\n",
        "    main()"
      ],
      "metadata": {
        "colab": {
          "base_uri": "https://localhost:8080/"
        },
        "id": "cnoahtuU2TEd",
        "outputId": "6f969a8a-cc19-4926-bd0a-e0ac6163eec3"
      },
      "execution_count": 1,
      "outputs": [
        {
          "output_type": "stream",
          "name": "stdout",
          "text": [
            "How old is this person?: 44\n",
            "True\n"
          ]
        }
      ]
    },
    {
      "cell_type": "markdown",
      "source": [
        "# **01_greetings**"
      ],
      "metadata": {
        "id": "c7tb4R0G1m0u"
      }
    },
    {
      "cell_type": "code",
      "source": [
        "\"\"\"\n",
        "Problem Statement\n",
        "We've written a helper function for you called greet(name) which takes as input a string name and prints a greeting. Write some code in main() to get the user's name and then greet them, being sure to call the greet(name) helper function.\n",
        "\n",
        "Here's a sample run of the program (user input in bold italics):\n",
        "\n",
        "What's your name? Sophia\n",
        "\n",
        "Greetings Sophia!\n",
        "\"\"\"\n",
        "def main():\n",
        "    name : str = input(\"What's your name? \")\n",
        "    print(greet(name))\n",
        "\n",
        "# There is no need to edit code beyond this point\n",
        "\n",
        "def greet(name):\n",
        "    return f\"Greetings {name} !\"\n",
        "\n",
        "if __name__ == '__main__':\n",
        "    main()\n"
      ],
      "metadata": {
        "colab": {
          "base_uri": "https://localhost:8080/"
        },
        "id": "iyQAAmIw2SVe",
        "outputId": "ee893f01-7609-4bf3-8550-ab7edff91b7d"
      },
      "execution_count": 3,
      "outputs": [
        {
          "output_type": "stream",
          "name": "stdout",
          "text": [
            "What's your name? zakia\n",
            "Greetings zakia !\n"
          ]
        }
      ]
    },
    {
      "cell_type": "markdown",
      "source": [
        "# **02_in_range**"
      ],
      "metadata": {
        "id": "TpCgSTGX1m-C"
      }
    },
    {
      "cell_type": "code",
      "source": [
        "\n",
        "\"\"\"\n",
        "Problem Statement\n",
        "Implement the following function which takes in 3 integers as parameters:\n",
        "def in_range(n, low, high)  Returns True if n is between low and high, inclusive. high is guaranteed to be greater than low.\n",
        "\"\"\"\n",
        "def in_range(n: int, low: int, high: int) -> bool:\n",
        "    if n >= low and n <= high:\n",
        "        return True\n",
        "    else:\n",
        "        return False\n"
      ],
      "metadata": {
        "id": "vN0vSENO2RtC"
      },
      "execution_count": 7,
      "outputs": []
    },
    {
      "cell_type": "markdown",
      "source": [
        "# **03_in_stock**"
      ],
      "metadata": {
        "id": "a1JCiuc-1nI7"
      }
    },
    {
      "cell_type": "code",
      "source": [
        "\"\"\"\n",
        "Problem Statement\n",
        "Sophia has a fruit store. She has written a function num_in_stock which takes a string fruit as a parameter and returns how many of that fruit are in her inventory. Write code in main() which will:\n",
        "\n",
        "Prompt the user to enter a fruit (\"Enter a fruit: \")\n",
        "\n",
        "Call num_in_stock(fruit) to get the number of that fruit that Sophia has in stock\n",
        "\n",
        "Print the number which are in stock if Sophia has that fruit in her inventory (there are more than 0 in stock)\n",
        "\n",
        "Print \"This fruit is not in stock.\" if Sophia has none of that fruit in her inventory.\n",
        "\n",
        "Here's two sample runs of the program (user input in bold italics):\n",
        "\n",
        "Enter a fruit: pear\n",
        "\n",
        "This fruit is in stock! Here is how many:\n",
        "\n",
        "1000\n",
        "\n",
        "Enter a fruit: lychee\n",
        "\n",
        "This fruit is not in stock.\n",
        "\"\"\"\n",
        "def main():\n",
        "\tfruit : str = input(\"Enter a fruit: \")\n",
        "\tstock = num_in_stock(fruit)\n",
        "\tif stock == 0:\n",
        "\t\tprint(\"This fruit is not in stock.\")\n",
        "\telse:\n",
        "\t\tprint(\"This fruit is in stock! Here is how many:\")\n",
        "\t\tprint(stock)\n",
        "\n",
        "# There is no need to edit code beyond this point\n",
        "\n",
        "def num_in_stock(fruit):\n",
        "\t\"\"\"\n",
        "\tThis function returns the number of fruit Sophia has in stock.\n",
        "\t\"\"\"\n",
        "\tif fruit == 'apple':\n",
        "\t\treturn 2\n",
        "\tif fruit == 'durian':\n",
        "\t\treturn 4\n",
        "\tif fruit == 'pear':\n",
        "\t\treturn 1000\n",
        "\telse:\n",
        "\t\t# this fruit is not in stock.\n",
        "\t\treturn 0\n",
        "\n",
        "\n",
        "if __name__ == '__main__':\n",
        "    main()"
      ],
      "metadata": {
        "colab": {
          "base_uri": "https://localhost:8080/"
        },
        "id": "O3w60-7B2RCc",
        "outputId": "42410dfd-58aa-4a9c-e395-49d0bd8b8535"
      },
      "execution_count": 9,
      "outputs": [
        {
          "output_type": "stream",
          "name": "stdout",
          "text": [
            "Enter a fruit: mango\n",
            "This fruit is not in stock.\n"
          ]
        }
      ]
    },
    {
      "cell_type": "markdown",
      "source": [
        "# **04_multiple_returns**"
      ],
      "metadata": {
        "id": "MVZLbtGG1nXk"
      }
    },
    {
      "cell_type": "code",
      "source": [
        "\"\"\"\n",
        "Problem Statement\n",
        "There are times where you are working with lots of different data within a function that you want to return. While generally, we want to keep functions to have a precise purpose, sometimes that purpose just deals with multiple bits of data.\n",
        "\n",
        "To practice this, imagine we are working on a program where the user needs to enters data to sign up for a website. Fill out the get_user_data() function which:\n",
        "\n",
        "Asks the user for their first name and stores it in a variable\n",
        "\n",
        "Asks the user for their last name and stores it in a variable\n",
        "\n",
        "Asks the user for their email address and stores it in a variable\n",
        "\n",
        "Returns all three of these pieces of data in the order it was asked\n",
        "\n",
        "You can return multiple pieces of data by separating each piece with a comma in the return line.\n",
        "\n",
        "Here is an example run of the program:\n",
        "\n",
        "What is your first name?: Jane\n",
        "\n",
        "What is your last name?: Stanford\n",
        "\n",
        "What is your email address?: janestanford@stanford.edu\n",
        "\n",
        "Received the following user data: ('Jane', 'Stanford', 'janestanford@stanford.edu')\n",
        "\n",
        "(Note. This idea is called tuple packing/unpacking. We \"pack\" our return values into a single data structure called a tuple. We can then \"unpack\" these values back into our original values or leave them as a tuple.)\n",
        "\"\"\"\n",
        "def get_user_info():\n",
        "    first_name: str = input(\"What is your first name?: \")\n",
        "    last_name: str = input(\"What is your last name?: \")\n",
        "    email_address : str = input(\"What is your email address?: \")\n",
        "\n",
        "    return first_name, last_name, email_address\n",
        "\n",
        "########## No need to edit code past this point :) ##########\n",
        "\n",
        "def main():\n",
        "    user_data = get_user_info()\n",
        "    print(f\"Received the following user data: {user_data}\")\n",
        "\n",
        "if __name__ == \"__main__\":\n",
        "     main()\n",
        ""
      ],
      "metadata": {
        "colab": {
          "base_uri": "https://localhost:8080/"
        },
        "id": "2R6dUShz2QRG",
        "outputId": "97f0ca76-e306-4ae9-910b-599f9254a8bb"
      },
      "execution_count": 10,
      "outputs": [
        {
          "output_type": "stream",
          "name": "stdout",
          "text": [
            "What is your first name?: zimal\n",
            "What is your last name?: fatima\n",
            "What is your email address?: zimal@gmail.com\n",
            "Received the following user data: ('zimal', 'fatima', 'zimal@gmail.com')\n"
          ]
        }
      ]
    },
    {
      "cell_type": "markdown",
      "source": [
        "# **05_subtract_7**"
      ],
      "metadata": {
        "id": "icdYOxOA1nkW"
      }
    },
    {
      "cell_type": "code",
      "source": [
        "\"\"\"\n",
        "Problem Statement\n",
        "Fill out the subtract_seven helper function to subtract 7 from num, and fill out the main() method to call the subtract_seven helper function! If you're stuck, revisit the add_five example from lecture.\n",
        "\"\"\"\n",
        "def main():\n",
        "\tnum: int = 7\n",
        "\tnum = subtract_seven(num)\n",
        "\tprint(\"this should be zero: \", num)\n",
        "\n",
        "def subtract_seven(num):\n",
        "\tnum = num - 7\n",
        "\treturn num\n",
        "\n",
        "\n",
        "# There is no need to edit code beyond this point\n",
        "\n",
        "if __name__ == '__main__':\n",
        "    main()"
      ],
      "metadata": {
        "colab": {
          "base_uri": "https://localhost:8080/"
        },
        "id": "jey3M_w92PN_",
        "outputId": "00b50fe5-b6ce-44c5-eb12-e497f4345a78"
      },
      "execution_count": 11,
      "outputs": [
        {
          "output_type": "stream",
          "name": "stdout",
          "text": [
            "this should be zero:  0\n"
          ]
        }
      ]
    }
  ]
}