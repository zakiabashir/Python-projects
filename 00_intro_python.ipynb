{
  "nbformat": 4,
  "nbformat_minor": 0,
  "metadata": {
    "colab": {
      "provenance": [],
      "authorship_tag": "ABX9TyM9WrmJlisPCRqhQZt3hMKV",
      "include_colab_link": true
    },
    "kernelspec": {
      "name": "python3",
      "display_name": "Python 3"
    },
    "language_info": {
      "name": "python"
    }
  },
  "cells": [
    {
      "cell_type": "markdown",
      "metadata": {
        "id": "view-in-github",
        "colab_type": "text"
      },
      "source": [
        "<a href=\"https://colab.research.google.com/github/zakiabashir/Python-projects/blob/main/00_intro_python.ipynb\" target=\"_parent\"><img src=\"https://colab.research.google.com/assets/colab-badge.svg\" alt=\"Open In Colab\"/></a>"
      ]
    },
    {
      "cell_type": "markdown",
      "source": [],
      "metadata": {
        "id": "YE5lifes1QWJ"
      }
    },
    {
      "cell_type": "markdown",
      "source": [
        "**01_add_two_numbers**"
      ],
      "metadata": {
        "id": "NfcfWFEX1Uw0"
      }
    },
    {
      "cell_type": "code",
      "source": [
        "def main():\n",
        "    print(\"This program adds two numbers.\")\n",
        "    num1 = int(input(\"Enter first number: \"))\n",
        "    num2  = int(input(\"Enter second number: \"))\n",
        "    total : int = num1 + num2\n",
        "    print(f\"The total sum of { num1 } and {num2} is : {total}  \")\n",
        "\n",
        "\n",
        "# This provided line is required at the end of\n",
        "# Python file to call the main() function.\n",
        "if __name__ == '__main__':\n",
        "    main()"
      ],
      "metadata": {
        "colab": {
          "base_uri": "https://localhost:8080/"
        },
        "id": "Hk1BhLb31jGQ",
        "outputId": "c0c05c63-8c74-411b-eb02-217b5f0da999"
      },
      "execution_count": 6,
      "outputs": [
        {
          "output_type": "stream",
          "name": "stdout",
          "text": [
            "This program adds two numbers.\n",
            "Enter first number: 6\n",
            "Enter second number: 7\n",
            "The total sum of 6 and 7 is : 13  \n"
          ]
        }
      ]
    },
    {
      "cell_type": "code",
      "source": [
        "def main():\n",
        "    print(\"This program adds two numbers.\")\n",
        "    num1 : str = input(\"Enter first number: \")\n",
        "    num1 : int = int(num1)\n",
        "    num2  : str = input(\"Enter second number: \")\n",
        "    num2 : int = int(num2)\n",
        "    total : int = num1 + num2\n",
        "    print(f\"The total sum of { num1 } and {num2} is : {total}  \")\n",
        "\n",
        "\n",
        "# This provided line is required at the end of\n",
        "# Python file to call the main() function.\n",
        "if __name__ == '__main__':\n",
        "    main()"
      ],
      "metadata": {
        "colab": {
          "base_uri": "https://localhost:8080/"
        },
        "id": "G5K3AiIC-Uq3",
        "outputId": "3a6c573f-93b6-46e2-ec83-32d45bf79f11"
      },
      "execution_count": 19,
      "outputs": [
        {
          "output_type": "stream",
          "name": "stdout",
          "text": [
            "This program adds two numbers.\n",
            "Enter first number: 8\n",
            "Enter second number: 9\n",
            "The total sum of 8 and 9 is : 17  \n"
          ]
        }
      ]
    },
    {
      "cell_type": "markdown",
      "source": [
        "**02_agreement_bot**"
      ],
      "metadata": {
        "id": "zLHZXLyr2iup"
      }
    },
    {
      "cell_type": "code",
      "source": [
        "def main():\n",
        "    animal = input(\"What's your favorite animal? \")\n",
        "    print(f\"My favorite animal is also {animal}!\")\n",
        "\n",
        "if __name__ == '__main__':\n",
        "    main()\n"
      ],
      "metadata": {
        "colab": {
          "base_uri": "https://localhost:8080/"
        },
        "id": "SsGyDkK52nq5",
        "outputId": "08b254e7-4f2c-406c-c2ce-20b8c0ef1128"
      },
      "execution_count": 7,
      "outputs": [
        {
          "output_type": "stream",
          "name": "stdout",
          "text": [
            "What's your favorite animal? cow\n",
            "My favorite animal is also cow!\n"
          ]
        }
      ]
    },
    {
      "cell_type": "markdown",
      "source": [
        "# **03_fahrenheit_to_celsius**"
      ],
      "metadata": {
        "id": "QImCb1Nv3kYL"
      }
    },
    {
      "cell_type": "code",
      "source": [
        "\n",
        "\n",
        "def main():\n",
        "    fahrenheit_str = input(\"Enter temperature in Fahrenheit: \")\n",
        "    fahrenheit = float(fahrenheit_str)\n",
        "    celsius = (fahrenheit - 32) * 5.0 / 9.0\n",
        "    print(f\"Temperature: {fahrenheit}F = {celsius}C\")\n",
        "\n",
        "if __name__ == '__main__':\n",
        "    main()\n"
      ],
      "metadata": {
        "colab": {
          "base_uri": "https://localhost:8080/"
        },
        "id": "RzJmt6aJ33Ec",
        "outputId": "e2677330-d7d1-4b1c-fccd-edee60b6d2cb"
      },
      "execution_count": 8,
      "outputs": [
        {
          "output_type": "stream",
          "name": "stdout",
          "text": [
            "Enter temperature in Fahrenheit: 56\n",
            "Temperature: 56.0F = 13.333333333333334C\n"
          ]
        }
      ]
    },
    {
      "cell_type": "markdown",
      "source": [
        "## **04_how_old_are_they**"
      ],
      "metadata": {
        "id": "xj89Vm3b4OMm"
      }
    },
    {
      "cell_type": "code",
      "source": [
        "def main():\n",
        "    zimal : int = 21  # zimal's age is given as 21 years old\n",
        "    shafey : int = 6 + zimal  # shafey is 6 years older than zimal, so add 6 to zimal's age to get shafey's\n",
        "    ayesha : int = 20 + shafey  # ayesha is 20 years older than shafey, so add 20 to shafey's age to get ayesha's\n",
        "    marium  : int= ayesha + zimal  # marium is as old as ayesha's age plus zimal's age, so add them together\n",
        "    alisha : int = ayesha  #  alishaEthan is the same age as ayesha, so set  alisha's age equal to ayesha's\n",
        "\n",
        "   # Print out all of the ages!\n",
        "    print(\"Zimal is \" + str(zimal))\n",
        "    print(\"Shafey is \" + str(shafey))\n",
        "    print(\"Ayesha is \" + str(ayesha))\n",
        "    print(\"Marium is \" + str(marium))\n",
        "    print(\"Alisha is \" + str( alisha))\n",
        "\n",
        "\n",
        "# There is no need to edit code beyond this point\n",
        "\n",
        "if __name__ == '__main__':\n",
        "    main()"
      ],
      "metadata": {
        "colab": {
          "base_uri": "https://localhost:8080/"
        },
        "id": "yBPiB6ZQ45Vf",
        "outputId": "74865716-2ef4-4c32-8031-5b13d4e2671b"
      },
      "execution_count": 12,
      "outputs": [
        {
          "output_type": "stream",
          "name": "stdout",
          "text": [
            "Zimal is 21\n",
            "Shafey is 27\n",
            "Ayesha is 47\n",
            "Marium is 68\n",
            "Alisha is 47\n"
          ]
        }
      ]
    },
    {
      "cell_type": "markdown",
      "source": [
        "## **05_triangle_perimeter**"
      ],
      "metadata": {
        "id": "F10WEjYw7yk1"
      }
    },
    {
      "cell_type": "code",
      "source": [
        "\n",
        "\n",
        "def main():\n",
        "    side1 = float(input(\"What is the length of side 1? \"))\n",
        "    side2 = float(input(\"What is the length of side 2? \"))\n",
        "    side3 = float(input(\"What is the length of side 3? \"))\n",
        "    perimeter = side1 + side2 + side3\n",
        "    print(f\"The perimeter of the triangle {side1} + {side2} + {side3} is : {perimeter}\")\n",
        "\n",
        "if __name__ == '__main__':\n",
        "    main()\n"
      ],
      "metadata": {
        "colab": {
          "base_uri": "https://localhost:8080/"
        },
        "id": "sVrHGabP8B4v",
        "outputId": "ed5492a4-7aa8-4ea6-d1a1-a3da3f503a58"
      },
      "execution_count": 15,
      "outputs": [
        {
          "output_type": "stream",
          "name": "stdout",
          "text": [
            "What is the length of side 1? 7\n",
            "What is the length of side 2? 8\n",
            "What is the length of side 3? 9\n",
            "The perimeter of the triangle 7.0 + 8.0 + 9.0 is : 24.0\n"
          ]
        }
      ]
    },
    {
      "cell_type": "markdown",
      "source": [
        "# **06_square_number**"
      ],
      "metadata": {
        "id": "pFVv4-GU9IHn"
      }
    },
    {
      "cell_type": "code",
      "source": [
        "\n",
        "\n",
        "def main():\n",
        "    number_str = input(\"Type a number to see its square: \")\n",
        "    number = float(number_str)\n",
        "    square = number * number\n",
        "    print(f\"{number} squared is {square}\")\n",
        "\n",
        "if __name__ == '__main__':\n",
        "    main()\n"
      ],
      "metadata": {
        "colab": {
          "base_uri": "https://localhost:8080/"
        },
        "id": "89MFOVEB9NUS",
        "outputId": "e22f20c5-f19b-439c-ca85-8ebbb52d604f"
      },
      "execution_count": 18,
      "outputs": [
        {
          "output_type": "stream",
          "name": "stdout",
          "text": [
            "Type a number to see its square: 4\n",
            "4.0 squared is 16.0\n"
          ]
        }
      ]
    }
  ]
}