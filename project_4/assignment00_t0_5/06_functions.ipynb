{
  "nbformat": 4,
  "nbformat_minor": 0,
  "metadata": {
    "colab": {
      "provenance": [],
      "authorship_tag": "ABX9TyM4Maa4FyZ3MxvXHKRIB7lo",
      "include_colab_link": true
    },
    "kernelspec": {
      "name": "python3",
      "display_name": "Python 3"
    },
    "language_info": {
      "name": "python"
    }
  },
  "cells": [
    {
      "cell_type": "markdown",
      "metadata": {
        "id": "view-in-github",
        "colab_type": "text"
      },
      "source": [
        "<a href=\"https://colab.research.google.com/github/zakiabashir/Python-projects/blob/main/06_functions.ipynb\" target=\"_parent\"><img src=\"https://colab.research.google.com/assets/colab-badge.svg\" alt=\"Open In Colab\"/></a>"
      ]
    },
    {
      "cell_type": "markdown",
      "source": [
        "# **00_averages**"
      ],
      "metadata": {
        "id": "0WsoEDCjpFyB"
      }
    },
    {
      "cell_type": "code",
      "source": [
        "\"\"\"\n",
        "Problem Statement\n",
        "Write a function that takes two numbers and finds the average between the two.\n",
        "\"\"\"\n",
        "def average(a: float, b: float):\n",
        "    \"\"\"\n",
        "    Returns the number which is half way between a and b\n",
        "    \"\"\"\n",
        "    sum = a + b\n",
        "    return sum / 2\n",
        "\n",
        "def main():\n",
        "    avg_1 = average(8, 10)\n",
        "    avg_2 = average(6, 10)\n",
        "\n",
        "    final = average(avg_1, avg_2)\n",
        "    print(f\"avg_1 {avg_1}\")\n",
        "    print(f\"avg_2 {avg_2}\")\n",
        "    print(f\"final {final}\")\n",
        "\n",
        "\n",
        "# There is no need to edit code beyond this point\n",
        "\n",
        "if __name__ == '__main__':\n",
        "    main()"
      ],
      "metadata": {
        "colab": {
          "base_uri": "https://localhost:8080/"
        },
        "id": "pGzw-ZIn0QvU",
        "outputId": "49141437-a9cf-4d5f-922a-b3cb3cc64407"
      },
      "execution_count": 33,
      "outputs": [
        {
          "output_type": "stream",
          "name": "stdout",
          "text": [
            "avg_1 9.0\n",
            "avg_2 8.0\n",
            "final 8.5\n"
          ]
        }
      ]
    },
    {
      "cell_type": "markdown",
      "source": [
        "# **01_chaotic_counting**"
      ],
      "metadata": {
        "id": "9t-iaNAzpF_T"
      }
    },
    {
      "cell_type": "code",
      "source": [
        "\"\"\"\n",
        "Problem Statement\n",
        "Fill out the chaotic_counting() function, which prints the numbers from 1 to 10, but with a catch. We've written a done() function which returns True with likelihood DONE_LIKELIHOOD -- at each number, before printing the number, you should call done() and check if it returns True or not. If done() returns True, we're done counting, and you should use a return statement to end the chaotic_counting() function execution and resume execution of main(), which will print \"I'm done.\". We've written main() for you -- check it out! Notice that we'll only print \"I'm done\" from main() once chaotic_counting() is done with its execution.\n",
        "\n",
        "Here's a sample run of this program:\n",
        "\n",
        "I'm going to count until 10 or until I feel like stopping, whichever comes first. 1 2 3 I'm done.\n",
        "\"\"\"\n",
        "import random\n",
        "def chaotic_counting():\n",
        "    for i in range(10):\n",
        "        curr_num = i + 1\n",
        "        if done():\n",
        "            return # this ends the function execution, so we'll get back to the main() function!\n",
        "        print(curr_num)\n",
        "\n",
        "# There is no need to edit code beyond this point\n",
        "\n",
        "def done():\n",
        "    \"\"\" Returns True with a probability of DONE_LIKELIHOOD \"\"\"\n",
        "    if random.random() < DONE_LIKELIHOOD:\n",
        "        return True\n",
        "    return False\n",
        "\n",
        "def main():\n",
        "    print(\"I'm going to count until 10 or until I feel like stopping, whichever comes first.\")\n",
        "    chaotic_counting()\n",
        "    print(\"I'm done\")\n",
        "\n",
        "if __name__ == \"__main__\":\n",
        "    main()"
      ],
      "metadata": {
        "colab": {
          "base_uri": "https://localhost:8080/"
        },
        "id": "kyljx9HuzOh2",
        "outputId": "fd3ea8cc-9ce6-4445-d647-16d512fecb4a"
      },
      "execution_count": 30,
      "outputs": [
        {
          "output_type": "stream",
          "name": "stdout",
          "text": [
            "I'm going to count until 10 or until I feel like stopping, whichever comes first.\n",
            "1\n",
            "2\n",
            "3\n",
            "I'm done\n"
          ]
        }
      ]
    },
    {
      "source": [
        "DONE_LIKELIHOOD = 0.3"
      ],
      "cell_type": "code",
      "metadata": {
        "id": "FaNUEKJUzxYi"
      },
      "execution_count": 28,
      "outputs": []
    },
    {
      "cell_type": "markdown",
      "source": [
        "# **02_count_even**"
      ],
      "metadata": {
        "id": "tj-VZjnMpGMJ"
      }
    },
    {
      "cell_type": "code",
      "source": [
        "\"\"\"\n",
        "Problem Statement\n",
        "Fill out the function count_even(lst) which\n",
        "\n",
        "first populates a list by prompting the user for integers until they press enter (please use the prompt \"Enter an integer or press enter to stop: \"),\n",
        "\n",
        "and then prints the number of even numbers in the list.\n",
        "\n",
        "If you'd prefer to focus on the second task only, scroll down for our implementation of the first task!\n",
        "\"\"\"\n",
        "\n",
        "def count_even(lst):\n",
        "    \"\"\"\n",
        "    Returns number of even numbers in list.\n",
        "    >>> count_even([1,2,3,4])\n",
        "    2\n",
        "    >>> count_even([1,3,5,7])\n",
        "    0\n",
        "    \"\"\"\n",
        "    count = 0  # Stores the count of even numbers in the list\n",
        "    for num in lst:  # Loop through the numbers in the list\n",
        "        if num % 2 == 0:  # If the current number in the list is even (divisible by 2)\n",
        "            count += 1  # Add one to our count!\n",
        "\n",
        "    # Here's another way to do this same thing, with a different kind of for-loop:\n",
        "    # for i in range(len(lst)):\n",
        "    #     num = lst[i]\n",
        "    #     if num % 2 == 0:\n",
        "    #         count += 1\n",
        "\n",
        "    print(count)  # Print out how many even numbers we counted above\n",
        "\n",
        "def get_list_of_ints():\n",
        "    \"\"\"\n",
        "    Reads in integers until the user presses enter and returns the resulting list.\n",
        "    \"\"\"\n",
        "    lst = []  # Make an empty list to store integers\n",
        "    user_input = input(\"Enter an integer or press enter to stop: \")  # Get user input for an integer\n",
        "    while user_input != \"\":  # While the user doesn't enter nothing...\n",
        "        lst.append(int(user_input))  # Cast the user input into an integer and add it to our list\n",
        "        user_input = input(\"Enter an integer or press enter to stop: \")  # Get the next user input\n",
        "\n",
        "    return lst\n",
        "\n",
        "def main():\n",
        "    lst = get_list_of_ints()\n",
        "    count_even(lst)\n",
        "\n",
        "\n",
        "# There is no need to edit code beyond this point\n",
        "\n",
        "if __name__ == '__main__':\n",
        "    main()"
      ],
      "metadata": {
        "colab": {
          "base_uri": "https://localhost:8080/"
        },
        "id": "QhtVnIgSymlU",
        "outputId": "430f70f9-c290-4816-8683-96efba7e7618"
      },
      "execution_count": 26,
      "outputs": [
        {
          "output_type": "stream",
          "name": "stdout",
          "text": [
            "Enter an integer or press enter to stop: 8\n",
            "Enter an integer or press enter to stop: 19\n",
            "Enter an integer or press enter to stop: \n",
            "1\n"
          ]
        }
      ]
    },
    {
      "cell_type": "markdown",
      "source": [
        "# **03_double**"
      ],
      "metadata": {
        "id": "enVvMDP6pGYi"
      }
    },
    {
      "cell_type": "code",
      "source": [
        "\"\"\"\n",
        "Problem Statement\n",
        "Fill out the double(num) function to return the result of multiplying num by 2. We've written a main() function for you which asks the user for a number, calls your code for double(num) , and prints the result.\n",
        "\n",
        "Here's a sample run of the program (user input in bold italics):\n",
        "\n",
        "Enter a number: 2 Double that is 4\n",
        "\"\"\"\n",
        "def double(num: int):\n",
        "    return num * 2\n",
        "\n",
        "# There is no need to edit code beyond this point\n",
        "\n",
        "def main():\n",
        "    num = int(input(\"Enter a number: \"))\n",
        "    num_times_2 = double(num)\n",
        "    print(f\"Double that is {num_times_2}\")\n",
        "\n",
        "if __name__ == '__main__':\n",
        "    main()"
      ],
      "metadata": {
        "colab": {
          "base_uri": "https://localhost:8080/"
        },
        "id": "yJEM7mTqx88p",
        "outputId": "042be383-fb4c-4c2a-b6bf-5d0cb26f93da"
      },
      "execution_count": 22,
      "outputs": [
        {
          "output_type": "stream",
          "name": "stdout",
          "text": [
            "Enter a number: 8\n",
            "Double that is 16\n"
          ]
        }
      ]
    },
    {
      "cell_type": "markdown",
      "source": [
        "# **04_get_name**"
      ],
      "metadata": {
        "id": "OcFejN8JpGii"
      }
    },
    {
      "cell_type": "code",
      "source": [
        "\"\"\"\n",
        "Problem Statement\n",
        "Fill out the get_name() function to return your name as a string! We've written a main() function for you which calls your function to retrieve your name and then prints it in a greeting.\n",
        "\n",
        "Here's a sample run of the program where the name we've decided to return is Sophia (the autograder expects the returned name to be Sophia):\n",
        "\n",
        "Howdy Sophia ! 🤠\n",
        "\"\"\"\n",
        "def get_name():\n",
        "    return \"Sophia\"\n",
        "\n",
        "# There is no need to edit code beyond this point\n",
        "\n",
        "def main():\n",
        "    name = get_name() # get_name() will return a string which we store to the 'name' variable here\n",
        "    print(f\"Howdy {name} ! 🤠\")\n",
        "\n",
        "if __name__ == '__main__':\n",
        "    main()"
      ],
      "metadata": {
        "colab": {
          "base_uri": "https://localhost:8080/"
        },
        "id": "NrUNGVYwxiFJ",
        "outputId": "990e164a-99e9-4bc7-d613-862770385b5a"
      },
      "execution_count": 19,
      "outputs": [
        {
          "output_type": "stream",
          "name": "stdout",
          "text": [
            "Howdy Sophia ! 🤠\n"
          ]
        }
      ]
    },
    {
      "cell_type": "markdown",
      "source": [
        "# **05_is_odd**"
      ],
      "metadata": {
        "id": "RRwbiWj1pGvR"
      }
    },
    {
      "cell_type": "code",
      "source": [
        "\"\"\"\n",
        "Problem Statement\n",
        "10 even 11 odd 12 even 13 odd 14 even 15 odd 16 even 17 odd 18 even 19 odd\n",
        "\"\"\"\n",
        "def main():\n",
        "    for i in range(10):\n",
        "        if is_odd(i):\n",
        "            print('odd')\n",
        "        else:\n",
        "            print('even')\n",
        "\n",
        "def is_odd(value: int):\n",
        "    \"\"\"\n",
        "    Checks to see if a value is odd. If it is, returns true.\n",
        "    \"\"\"\n",
        "\n",
        "    remainder = value % 2  # 0 if value is divisible by 2, 1 if it isn't\n",
        "    return remainder == 1\n",
        "\n",
        "\n",
        "# There is no need to edit code beyond this point\n",
        "\n",
        "if __name__ == '__main__':\n",
        "    main()"
      ],
      "metadata": {
        "colab": {
          "base_uri": "https://localhost:8080/"
        },
        "id": "kLdG9J2QwxzY",
        "outputId": "8975916f-031f-4086-8377-26d77142a095"
      },
      "execution_count": 15,
      "outputs": [
        {
          "output_type": "stream",
          "name": "stdout",
          "text": [
            "even\n",
            "odd\n",
            "even\n",
            "odd\n",
            "even\n",
            "odd\n",
            "even\n",
            "odd\n",
            "even\n",
            "odd\n"
          ]
        }
      ]
    },
    {
      "cell_type": "markdown",
      "source": [
        "# **06_print_divisor**"
      ],
      "metadata": {
        "id": "lYzSFcnWpG7U"
      }
    },
    {
      "cell_type": "code",
      "source": [
        "\"\"\"\n",
        "Problem Statement\n",
        "Write the helper function print_divisors(num), which takes in a number and prints all of its divisors (all the numbers from 1 to num inclusive that num can be cleanly divided by (there is no remainder to the division). Don't forget to call your function in main()!\n",
        "\n",
        "Here's a sample run (user input is in blue):\n",
        "\n",
        "Enter a number: 12 Here are the divisors of 12 1 2 3 4 6 12\n",
        "\"\"\"\n",
        "def print_divisors(num: int):\n",
        "    print(\"Here are the divisors of\", num)\n",
        "    for i in range(num):\n",
        "        curr_divisor = i + 1\n",
        "        if num % curr_divisor == 0:\n",
        "            print(curr_divisor)\n",
        "\n",
        "def main():\n",
        "    num = int(input(\"Enter a number: \"))\n",
        "    print_divisors(num)\n",
        "\n",
        "\n",
        "# There is no need to edit code beyond this point\n",
        "\n",
        "if __name__ == '__main__':\n",
        "    main()"
      ],
      "metadata": {
        "colab": {
          "base_uri": "https://localhost:8080/"
        },
        "id": "eVToFMhIwISv",
        "outputId": "1547caf3-65a5-4300-8d61-c66f082b102f"
      },
      "execution_count": 14,
      "outputs": [
        {
          "output_type": "stream",
          "name": "stdout",
          "text": [
            "Enter a number: 8\n",
            "Here are the divisors of 8\n",
            "1\n",
            "2\n",
            "4\n",
            "8\n"
          ]
        }
      ]
    },
    {
      "cell_type": "markdown",
      "source": [
        "# **07_print_multiple**"
      ],
      "metadata": {
        "id": "SMx-W9DypHEo"
      }
    },
    {
      "source": [
        "\"\"\"\n",
        "Problem Statement\n",
        "Fill out print_multiple(message, repeats), which takes as parameters a string message to print, and an integer repeats number of times to print message. We've written the main() function for you, which prompts the user for a message and a number of repeats.\n",
        "\n",
        "Here's a sample run of the program (user input is in blue):\n",
        "\n",
        "Please type a message: Hello! Enter a number of times to repeat your message: 6 Hello! Hello! Hello! Hello! Hello! Hello!\n",
        "\"\"\"\n",
        "\n",
        "def print_multiple(message, repeats):\n",
        "  \"\"\"Prints a message multiple times, each on a new line.\n",
        "\n",
        "  Args:\n",
        "    message: The message to print.\n",
        "    repeats: The number of times to print the message.\n",
        "  \"\"\"\n",
        "  for _ in range(repeats):\n",
        "    print(message)  # Print message on a new line\n",
        "\n",
        "def main():\n",
        "  message = input(\"Please type a message: \")\n",
        "  repeats = int(input(\"Enter a number of times to repeat your message: \"))\n",
        "  print_multiple(message, repeats)\n",
        "\n",
        "if __name__ == \"__main__\":\n",
        "  main()"
      ],
      "cell_type": "code",
      "metadata": {
        "colab": {
          "base_uri": "https://localhost:8080/"
        },
        "id": "RCh8FdYbuNTA",
        "outputId": "1f6ebbdc-0aba-4971-aa46-05eff3e466b9"
      },
      "execution_count": 13,
      "outputs": [
        {
          "output_type": "stream",
          "name": "stdout",
          "text": [
            "Please type a message: how are you?\n",
            "Enter a number of times to repeat your message: 8\n",
            "how are you?\n",
            "how are you?\n",
            "how are you?\n",
            "how are you?\n",
            "how are you?\n",
            "how are you?\n",
            "how are you?\n",
            "how are you?\n"
          ]
        }
      ]
    },
    {
      "cell_type": "markdown",
      "source": [
        "# **08_sentence_generator**"
      ],
      "metadata": {
        "id": "Aw44ZkkBpHQ2"
      }
    },
    {
      "cell_type": "code",
      "source": [
        "\"\"\"\n",
        "Problem Statement\n",
        "Implement the helper function make_sentence(word, part_of_speech) which will take a string word and an integer part_of_speech as parameters and, depending on the part of speech, place the word into one of three sentence templates (or one from your imagination!):\n",
        "\n",
        "If part_of_speech is 0, we will assume the word is a noun and use the template: \"I am excited to add this ____ to my vast collection of them!\"\n",
        "\n",
        "If part_of_speech is 1, we will assume the word is a verb use the template: \"It's so nice outside today it makes me want to ____!\"\n",
        "\n",
        "If part_of_speech is 2, we will assume the word is an adjective and use the template: \"Looking out my window, the sky is big and ____!\" make_sentence(word, part_of_speech) should not return anything, just print the correct sentence with the word filled in the blank.\n",
        "\n",
        "Here's a sample run of the program (user input is in blue):\n",
        "\n",
        "Please type a noun, verb, or adjective: groovy Is this a noun, verb, or adjective? Type 0 for noun, 1 for verb, 2 for adjective: 2 Looking out my window, the sky is big and groovy!\n",
        "\"\"\"\n",
        "def make_sentence(word, part_of_speech):\n",
        "    if part_of_speech == 0:\n",
        "        # noun\n",
        "        print(f\"I am excited to add this {word} to my vast collection of them!\")\n",
        "    elif part_of_speech == 1:\n",
        "        # verb\n",
        "        print(f\"It's so nice outside today it makes me want to {word} !\")\n",
        "    elif part_of_speech == 2:\n",
        "        # adjective\n",
        "        print(f\"Looking out my window, the sky is big an {word} !\")\n",
        "    else:\n",
        "        # part_of_speech is invalid (not 0, 1, or 2)\n",
        "        print(\"Part of speech must be 0, 1, or 2! Can't make a sentence.\")\n",
        "\n",
        "# There is no need to edit code beyond this point\n",
        "\n",
        "def main():\n",
        "    word :  str = input(\"Please type a noun, verb, or adjective: \")\n",
        "    print(\"Is this a noun, verb, or adjective?\")\n",
        "    part_of_speech = int(input(\"Type 0 for noun, 1 for verb, 2 for adjective: \"))\n",
        "    make_sentence(word, part_of_speech)\n",
        "\n",
        "if __name__ == '__main__':\n",
        "    main()\n"
      ],
      "metadata": {
        "colab": {
          "base_uri": "https://localhost:8080/"
        },
        "id": "smH836WersFy",
        "outputId": "233fca3b-9a70-44e0-86d8-0b71be61ccb9"
      },
      "execution_count": 8,
      "outputs": [
        {
          "output_type": "stream",
          "name": "stdout",
          "text": [
            "Please type a noun, verb, or adjective: 0\n",
            "Is this a noun, verb, or adjective?\n",
            "Type 0 for noun, 1 for verb, 2 for adjective: 1\n",
            "It's so nice outside today it makes me want to 0 !\n"
          ]
        }
      ]
    },
    {
      "cell_type": "markdown",
      "source": [
        "# **09_print_ones_digit**"
      ],
      "metadata": {
        "id": "EyYNyUpjpHcF"
      }
    },
    {
      "cell_type": "code",
      "source": [
        "\"\"\"\n",
        "def print_ones_digit(num): print(\"The ones digit is\", num % 10)\n",
        "\n",
        "def main(): num = int(input(\"Enter a number: \")) print_ones_digit(num)\n",
        "\"\"\"\n",
        "\n",
        "def print_ones_digit(num):\n",
        "  print(\"The ones digit is\", num % 10)\n",
        "\n",
        "def main():\n",
        "  num = int(input(\"Enter a number: \"))\n",
        "  print_ones_digit(num)\n",
        "\n",
        "if __name__ == \"__main__\":\n",
        "    main()\n"
      ],
      "metadata": {
        "colab": {
          "base_uri": "https://localhost:8080/"
        },
        "id": "P0to9vXVqnl2",
        "outputId": "75e83773-4559-46c2-dd4b-8b54d475bc69"
      },
      "execution_count": 3,
      "outputs": [
        {
          "output_type": "stream",
          "name": "stdout",
          "text": [
            "Enter a number: 100\n",
            "The ones digit is 0\n"
          ]
        }
      ]
    }
  ]
}