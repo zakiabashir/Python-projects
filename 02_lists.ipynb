{
  "cells": [
    {
      "cell_type": "markdown",
      "metadata": {
        "id": "view-in-github",
        "colab_type": "text"
      },
      "source": [
        "<a href=\"https://colab.research.google.com/github/zakiabashir/Python-projects/blob/main/02_lists.ipynb\" target=\"_parent\"><img src=\"https://colab.research.google.com/assets/colab-badge.svg\" alt=\"Open In Colab\"/></a>"
      ]
    },
    {
      "cell_type": "markdown",
      "metadata": {
        "id": "ui2LcZhnZSqh"
      },
      "source": [
        "## **01_add_many_number**"
      ]
    },
    {
      "cell_type": "code",
      "execution_count": null,
      "metadata": {
        "colab": {
          "base_uri": "https://localhost:8080/"
        },
        "id": "cOp3DK4EaVfv",
        "outputId": "0e364abd-d5d0-47c4-f648-0d6abeb44c7c"
      },
      "outputs": [
        {
          "name": "stdout",
          "output_type": "stream",
          "text": [
            "15\n"
          ]
        }
      ],
      "source": [
        "\"\"\"\n",
        "Write a function that takes a list of numbers and returns the sum of those numbers.\n",
        "\n",
        "\"\"\"\n",
        "def add_many_numbers(numbers)-> int:\n",
        "    \"\"\"\n",
        "    Takes in a list of numbers and returns the sum of those numbers.\n",
        "    \"\"\"\n",
        "\n",
        "    total_so_far: int = 0\n",
        "    for number in numbers:\n",
        "        total_so_far += number\n",
        "\n",
        "    return total_so_far\n",
        "\n",
        "# There is no need to edit code beyond this point\n",
        "\n",
        "def main():\n",
        "    numbers: list[int] = [1, 2, 3, 4, 5]  # Make a list of numbers\n",
        "    sum_of_numbers: int = add_many_numbers(numbers)  # Find the sum of the list\n",
        "    print(sum_of_numbers)  # Print out the sum above\n",
        "\n",
        "\n",
        "if __name__ == '__main__':\n",
        "    main()"
      ]
    },
    {
      "cell_type": "markdown",
      "metadata": {
        "id": "L8TKLIcjZWy1"
      },
      "source": [
        "## **02_double_list**"
      ]
    },
    {
      "cell_type": "code",
      "execution_count": null,
      "metadata": {
        "colab": {
          "base_uri": "https://localhost:8080/"
        },
        "id": "Ig1s90E1a5jY",
        "outputId": "81a0422c-18d5-40e0-d665-a11893ac8946"
      },
      "outputs": [
        {
          "name": "stdout",
          "output_type": "stream",
          "text": [
            "[2, 4, 6, 8]\n"
          ]
        }
      ],
      "source": [
        "\"\"\"\n",
        "Problem Statement\n",
        "Write a program that doubles each element in a list of numbers. For example, if you start with this list:\n",
        "\n",
        "numbers = [1, 2, 3, 4]\n",
        "\n",
        "You should end with this list:\n",
        "\n",
        "numbers = [2, 4, 6, 8]\n",
        "\"\"\"\n",
        "def main():\n",
        "    numbers: list[int] = [1, 2, 3, 4]  # Creates a list of numbers\n",
        "\n",
        "    for i in range(len(numbers)):  # Loop through the indices of the list\n",
        "        elem_at_index = numbers[i]  # Get the element at index i in the numbers list\n",
        "        numbers[i] = elem_at_index * 2  # Set the element at index i to be equal to the previous element times 2\n",
        "\n",
        "    print(numbers)  # This should print the doubled list\n",
        "\n",
        "\n",
        "# There is no need to edit code beyond this point\n",
        "\n",
        "if __name__ == '__main__':\n",
        "    main()"
      ]
    },
    {
      "cell_type": "markdown",
      "metadata": {
        "id": "KergkwXmZe9M"
      },
      "source": [
        "# **03_erase_canvas**"
      ]
    },
    {
      "cell_type": "code",
      "source": [
        "# prompt: create a code on these basic information which is given Implement an 'eraser' on a canvas.\n",
        "# The canvas consists of a grid of blue 'cells' which are drawn as rectangles on the screen. We then create an eraser rectangle which, when dragged around the canvas, sets all of the rectangles it is in contact with to white.  agr is code ma while loop use kryn to us ma break code bhi use kryn\n",
        "\n",
        "import random\n",
        "\n",
        "def erase_canvas(canvas, eraser_x, eraser_y, eraser_size):\n",
        "    \"\"\"\n",
        "    Simulates an eraser on a canvas.\n",
        "\n",
        "    Args:\n",
        "        canvas: A 2D list representing the canvas (0 for white, 1 for blue).\n",
        "        eraser_x: The x-coordinate of the eraser's top-left corner.\n",
        "        eraser_y: The y-coordinate of the eraser's top-left corner.\n",
        "        eraser_size: The size of the eraser (square).\n",
        "    \"\"\"\n",
        "\n",
        "    canvas_height = len(canvas)\n",
        "    canvas_width = len(canvas[0]) if canvas_height > 0 else 0\n",
        "\n",
        "    #Simulate dragging the eraser\n",
        "    while True:\n",
        "        #Check boundaries\n",
        "        if eraser_x < 0 or eraser_x + eraser_size > canvas_width or eraser_y < 0 or eraser_y + eraser_size > canvas_height:\n",
        "            break\n",
        "\n",
        "        #Erase cells within eraser's area\n",
        "        for y in range(eraser_y, min(eraser_y + eraser_size, canvas_height)):\n",
        "            for x in range(eraser_x, min(eraser_x + eraser_size, canvas_width)):\n",
        "                canvas[y][x] = 0  # Set the cell to white (0)\n",
        "\n",
        "        # Example: Simulate movement (replace with actual drag logic)\n",
        "        eraser_x += random.randint(-1,1)\n",
        "        eraser_y += random.randint(-1,1)\n",
        "\n",
        "        # Example break condition (replace with actual logic)\n",
        "        if random.random() < 0.1 :\n",
        "            break\n",
        "\n",
        "# Example usage:\n",
        "canvas_size = 10\n",
        "canvas = [[1] * canvas_size for _ in range(canvas_size)] # initialize all cells to blue (1)\n",
        "\n",
        "eraser_x = 2\n",
        "eraser_y = 2\n",
        "eraser_size = 3\n",
        "\n",
        "\n",
        "erase_canvas(canvas, eraser_x, eraser_y, eraser_size)\n",
        "\n",
        "for row in canvas:\n",
        "  row\n"
      ],
      "metadata": {
        "id": "7MoGXTTziURl"
      },
      "execution_count": 21,
      "outputs": []
    },
    {
      "source": [
        "!pip install graphics.py"
      ],
      "cell_type": "code",
      "metadata": {
        "colab": {
          "base_uri": "https://localhost:8080/"
        },
        "id": "kT8UVTFbjg71",
        "outputId": "e3b176ed-f655-420e-e5b1-7c3320dd70ad"
      },
      "execution_count": 10,
      "outputs": [
        {
          "output_type": "stream",
          "name": "stdout",
          "text": [
            "Collecting graphics.py\n",
            "  Downloading graphics.py-5.0.1.post1.tar.gz (9.6 kB)\n",
            "  Preparing metadata (setup.py) ... \u001b[?25l\u001b[?25hdone\n",
            "Building wheels for collected packages: graphics.py\n",
            "  Building wheel for graphics.py (setup.py) ... \u001b[?25l\u001b[?25hdone\n",
            "  Created wheel for graphics.py: filename=graphics.py-5.0.1.post1-py3-none-any.whl size=10052 sha256=124972aa5f683e83974e995bb93b84d9cbb57eddddccd5657827a1389e5afd12\n",
            "  Stored in directory: /root/.cache/pip/wheels/93/74/e4/0d68c6fd7d9c1247a8d792619183bcee10a404ab046eff361a\n",
            "Successfully built graphics.py\n",
            "Installing collected packages: graphics.py\n",
            "Successfully installed graphics.py-5.0.1.post1\n"
          ]
        }
      ]
    },
    {
      "cell_type": "markdown",
      "metadata": {
        "id": "LvvDht1qZl8x"
      },
      "source": [
        "# **04_flowing_with_data_structures**"
      ]
    },
    {
      "cell_type": "code",
      "source": [
        "\"\"\"\n",
        "Problem Statement\n",
        "In the information flow lesson, we discussed using a variable storing a number as an example of scope. We saw that changes we made to the number inside a function did not stay unless we returned it. This is true for what we call immutable data types which include things like numbers and strings.\n",
        "\n",
        "However, there are also mutable data types where changes stay even if we don't return anything. Some examples of mutable data types are lists and dictionaries. This means that you should be mindful when modifying lists and dictionaries within helper functions since their changes stay whether or not you return them.\n",
        "\n",
        "To see this in action, fill out the add_three_copies(...) function which takes a list and some data and then adds three copies of the data to the list. Don't return anything and see what happens! Compare this process to the x = change(x) example and note the differences.\n",
        "\n",
        "Here is an example run of this program (user input in bold italics):\n",
        "\n",
        "Enter a message to copy: Hello world!\n",
        "\n",
        "List before: []\n",
        "\n",
        "List after: ['Hello world!', 'Hello world!', 'Hello world!']\n",
        "\n",
        "(Note. The concept of immutable/mutable data types is called mutability. Be careful because different programming languages have different rules regarding mutability!)\n",
        "\"\"\"\n",
        "def add_three_copies(my_list, data):\n",
        "    for i in range(3):\n",
        "        my_list.append(data)\n",
        "\n",
        "########## No need to edit code past this point\n",
        "\n",
        "def main():\n",
        "    message = input(\"Enter a message to copy: \")\n",
        "    my_list = []\n",
        "    print(\"List before:\", my_list)\n",
        "    add_three_copies(my_list, message)\n",
        "    print(f\"List after:{my_list}\")\n",
        "\n",
        "if __name__ == \"__main__\":\n",
        "    main()"
      ],
      "metadata": {
        "colab": {
          "base_uri": "https://localhost:8080/"
        },
        "id": "ubbqV-oemjjz",
        "outputId": "e1face56-f37e-434b-be0c-266bb2841ed5"
      },
      "execution_count": 23,
      "outputs": [
        {
          "output_type": "stream",
          "name": "stdout",
          "text": [
            "Enter a message to copy: hi\n",
            "List before: []\n",
            "List after:['hi', 'hi', 'hi']\n"
          ]
        }
      ]
    },
    {
      "cell_type": "markdown",
      "metadata": {
        "id": "CCS_Hn5_ZuX8"
      },
      "source": [
        "## **05_get_first_element**"
      ]
    },
    {
      "cell_type": "code",
      "source": [
        "\"\"\"\n",
        "Problem Statement\n",
        "Fill out the function get_first_element(lst) which takes in a list lst as a parameter and prints the first element in the list. The list is guaranteed to be non-empty. We've written some code for you which prompts the user to input the list one element at a time.\n",
        "\"\"\"\n",
        "\n",
        "def get_first_element(lst):\n",
        "    \"\"\"\n",
        "    Prints the first element of a provided list.\n",
        "    \"\"\"\n",
        "\n",
        "    print(lst[0])\n",
        "\n",
        "# There is no need to edit code beyond this point\n",
        "\n",
        "def get_lst():\n",
        "    \"\"\"\n",
        "    Prompts the user to enter one element of the list at a time and returns the resulting list.\n",
        "    \"\"\"\n",
        "    lst = []\n",
        "    elem: str = input(\"Please enter an element of the list or press enter to stop. \")\n",
        "    while elem != \"\":\n",
        "        lst.append(elem)\n",
        "        elem = input(\"Please enter an element of the list or press enter to stop. \")\n",
        "    return lst\n",
        "\n",
        "def main():\n",
        "    lst = get_lst()\n",
        "    get_first_element(lst)\n",
        "\n",
        "\n",
        "if __name__ == '__main__':\n",
        "    main()\n",
        "\n"
      ],
      "metadata": {
        "colab": {
          "base_uri": "https://localhost:8080/"
        },
        "id": "NX-oHbd-nQ05",
        "outputId": "f4a90e8d-07c4-4f2c-f7f8-a0769e7e583b"
      },
      "execution_count": 24,
      "outputs": [
        {
          "output_type": "stream",
          "name": "stdout",
          "text": [
            "Please enter an element of the list or press enter to stop. rest\n",
            "Please enter an element of the list or press enter to stop. c\n",
            "Please enter an element of the list or press enter to stop. d\n",
            "Please enter an element of the list or press enter to stop. stop\n",
            "Please enter an element of the list or press enter to stop. \n",
            "rest\n"
          ]
        }
      ]
    },
    {
      "cell_type": "markdown",
      "metadata": {
        "id": "KWZVF-WIZ2gI"
      },
      "source": [
        "# **06_get_last_element**"
      ]
    },
    {
      "cell_type": "code",
      "source": [
        "# Takes the length of the list and minuses 1 since they are zero-indexed (we start counting at 0)\n",
        "lst=[1,2,3,4]\n",
        "print(lst[len(lst) - 1])\n",
        "\n",
        "# The line below works too!!\n",
        "print(lst[-1])"
      ],
      "metadata": {
        "colab": {
          "base_uri": "https://localhost:8080/"
        },
        "id": "IRlODqUBpJrc",
        "outputId": "f133de86-a0c5-4c4f-d8ff-d7145fe21d10"
      },
      "execution_count": 38,
      "outputs": [
        {
          "output_type": "stream",
          "name": "stdout",
          "text": [
            "4\n",
            "4\n"
          ]
        }
      ]
    },
    {
      "cell_type": "markdown",
      "metadata": {
        "id": "N3Kji5rMaHKN"
      },
      "source": [
        "# **07_get_list**"
      ]
    },
    {
      "cell_type": "code",
      "source": [
        "\"\"\"\n",
        "Problem Statement\n",
        "Write a program which continuously asks the user to enter values which are added one by one into a list. When the user presses enter without typing anything, print the list.\n",
        "\n",
        "Here's a sample run (user input is in blue):\n",
        "\n",
        "Enter a value: 1 Enter a value: 2 Enter a value: 3 Enter a value: Here's the list: ['1', '2', '3']\n",
        "\"\"\"\n",
        "def main():\n",
        "    lst = []  # Make an empty list to store things in\n",
        "\n",
        "    val = input(\"Enter a value: \")  # Get an initial value\n",
        "    while val:  # While the user input isn't an empty value\n",
        "        lst.append(val) # Add val to list\n",
        "        val = input(\"Enter a value: \")  # Get the next value to add\n",
        "\n",
        "    print(\"Here's the list:\", lst)\n",
        "\n",
        "\n",
        "# There is no need to edit code beyond this point\n",
        "\n",
        "if __name__ == '__main__':\n",
        "    main()"
      ],
      "metadata": {
        "colab": {
          "base_uri": "https://localhost:8080/"
        },
        "id": "fM5e_Q1Cr4ny",
        "outputId": "bc407588-4cc5-4e3b-e45d-93a4fd8bcc26"
      },
      "execution_count": 39,
      "outputs": [
        {
          "output_type": "stream",
          "name": "stdout",
          "text": [
            "Enter a value: 3\n",
            "Enter a value: 5\n",
            "Enter a value: 6\n",
            "Enter a value: \n",
            "Here's the list: ['3', '5', '6']\n"
          ]
        }
      ]
    },
    {
      "cell_type": "markdown",
      "metadata": {
        "id": "kcFwsa5_aNXl"
      },
      "source": [
        "# **08_shorten**"
      ]
    },
    {
      "cell_type": "code",
      "source": [
        "\"\"\"\n",
        "Problem Statement\n",
        "Fill out the function shorten(lst) which removes elements from the end of lst, which is a list, and prints each item it removes until lst is MAX_LENGTH items long. If lst is already shorter than MAX_LENGTH you should leave it unchanged. We've written a main() function for you which gets a list and passes it into your function once you run the program. For the autograder to pass you will need MAX_LENGTH to be 3, but feel free to change it around to test your program.\n",
        "\"\"\"\n",
        "MAX_LENGTH : int = 3\n",
        "\n",
        "def shorten(lst):\n",
        "    while len(lst) > MAX_LENGTH:\n",
        "        last_elem = lst.pop()\n",
        "        print(last_elem)\n",
        "\n",
        "# There is no need to edit code beyond this point\n",
        "\n",
        "def get_lst():\n",
        "    \"\"\"\n",
        "    Prompts the user to enter one element of the list at a time and returns the resulting list.\n",
        "    \"\"\"\n",
        "    lst = []\n",
        "    elem = input(\"Please enter an element of the list or press enter to stop. \")\n",
        "    while elem != \"\":\n",
        "        lst.append(elem)\n",
        "        elem = input(\"Please enter an element of the list or press enter to stop. \")\n",
        "    return lst\n",
        "\n",
        "def main():\n",
        "    lst = get_lst()\n",
        "    shorten(lst)\n",
        "\n",
        "\n",
        "if __name__ == '__main__':\n",
        "    main()"
      ],
      "metadata": {
        "colab": {
          "base_uri": "https://localhost:8080/"
        },
        "id": "dEETOXMjsZ5q",
        "outputId": "2db396b7-2625-40f9-fbde-4b00634b253d"
      },
      "execution_count": 40,
      "outputs": [
        {
          "output_type": "stream",
          "name": "stdout",
          "text": [
            "Please enter an element of the list or press enter to stop. apple\n",
            "Please enter an element of the list or press enter to stop. banana\n",
            "Please enter an element of the list or press enter to stop. mango\n",
            "Please enter an element of the list or press enter to stop. grapes \n",
            "Please enter an element of the list or press enter to stop. \n",
            "grapes \n"
          ]
        }
      ]
    },
    {
      "cell_type": "markdown",
      "metadata": {
        "id": "aSx39iFAZ_F7"
      },
      "source": []
    }
  ],
  "metadata": {
    "colab": {
      "provenance": [],
      "authorship_tag": "ABX9TyN80h78Wf/FB+9OcSrDQ3qm",
      "include_colab_link": true
    },
    "kernelspec": {
      "display_name": "Python 3",
      "name": "python3"
    },
    "language_info": {
      "name": "python"
    }
  },
  "nbformat": 4,
  "nbformat_minor": 0
}